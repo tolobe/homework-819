{
 "cells": [
  {
   "cell_type": "markdown",
   "metadata": {},
   "source": [
    "`1. Write a function that loops over all strings within the collection passed in, and changes all vowels to a dash.`\n",
    "\n",
    "<strong>Example</strong>: [ \"Bob\", \"Vowel\", \"Hello\" ]\n",
    "<br>\n",
    "<strong>Output</strong>: [ \"B-b\", \"V-w-l\", \"H-ll-\" ]"
   ]
  },
  {
   "cell_type": "code",
   "execution_count": 36,
   "metadata": {},
   "outputs": [],
   "source": [
    "names = [\"Two diven jocks help fax my big quiz\"]\n",
    "vowels = ['a', 'e', 'i', 'o', 'u']\n",
    "devoweled_names = []\n",
    "for name in names:\n",
    "    new_name = name\n",
    "    for letter in name:\n",
    "        if letter in vowels:\n",
    "            new_name = new_name.replace(letter, '-')\n",
    "    devoweled_names.append(new_name)"
   ]
  },
  {
   "cell_type": "markdown",
   "metadata": {},
   "source": [
    "`2. Write a program which will find all such numbers which are divisible by 7 but are not a multiple of 5, between 2000 and 3200 (both included). The numbers obtained should be printed in a comma-separated sequence on a single line.`"
   ]
  },
  {
   "cell_type": "code",
   "execution_count": 28,
   "metadata": {},
   "outputs": [
    {
     "name": "stdout",
     "output_type": "stream",
     "text": [
      "[2002, 2009, 2016, 2023, 2037, 2044, 2051, 2058, 2072, 2079, 2086, 2093, 2107, 2114, 2121, 2128, 2142, 2149, 2156, 2163, 2177, 2184, 2191, 2198, 2212, 2219, 2226, 2233, 2247, 2254, 2261, 2268, 2282, 2289, 2296, 2303, 2317, 2324, 2331, 2338, 2352, 2359, 2366, 2373, 2387, 2394, 2401, 2408, 2422, 2429, 2436, 2443, 2457, 2464, 2471, 2478, 2492, 2499, 2506, 2513, 2527, 2534, 2541, 2548, 2562, 2569, 2576, 2583, 2597, 2604, 2611, 2618, 2632, 2639, 2646, 2653, 2667, 2674, 2681, 2688, 2702, 2709, 2716, 2723, 2737, 2744, 2751, 2758, 2772, 2779, 2786, 2793, 2807, 2814, 2821, 2828, 2842, 2849, 2856, 2863, 2877, 2884, 2891, 2898, 2912, 2919, 2926, 2933, 2947, 2954, 2961, 2968, 2982, 2989, 2996, 3003, 3017, 3024, 3031, 3038, 3052, 3059, 3066, 3073, 3087, 3094, 3101, 3108, 3122, 3129, 3136, 3143, 3157, 3164, 3171, 3178, 3192, 3199]\n"
     ]
    }
   ],
   "source": [
    "#my plan\n",
    "#range from 2000 to  3200\n",
    "#if divisible by 7 add to otherlist\n",
    "#elif not divisible by 5 add to otherlist\n",
    "#else continue\n",
    "\n",
    "#My best effort\n",
    "# for i in range(2002, 3200, 7):\n",
    "#     print(i, end=', ')\n",
    "    \n",
    "# for x in range(2002, 3200, 5):\n",
    "#     print(x, end=', ')\n",
    "\n",
    "# set1 = {i}\n",
    "# to_delete = [{x}]\n",
    "\n",
    "# set_of_num.difference_update(to_delete)\n",
    "\n",
    "# print({x})\n",
    "\n",
    "#sams correct answer\n",
    "def output(a_list_of_numbers):\n",
    "    ans = [x for x in range(2000, 3201) if x%5 != 0 and x%7 == 0]\n",
    "    print(ans)\n",
    "output(range(2000-3201))"
   ]
  },
  {
   "cell_type": "markdown",
   "metadata": {},
   "source": [
    "`3. Write a program that calculates the number of upper case letters and lower case letters in a sentence.`\n",
    "\n",
    "<strong>Example</strong>: \"Hello world!\"\n",
    "<br>\n",
    "<strong>Output</strong>: <br>\n",
    "UPPER CASE 1\n",
    "<br>\n",
    "LOWER CASE 9"
   ]
  },
  {
   "cell_type": "code",
   "execution_count": 9,
   "metadata": {},
   "outputs": [
    {
     "name": "stdout",
     "output_type": "stream",
     "text": [
      "Type word: PooPoo\n",
      "UPPER LETTERS:  2\n",
      "lower letters:  4\n"
     ]
    }
   ],
   "source": [
    "message = input(\"Type word: \")\n",
    "\n",
    "print(\"UPPER LETTERS: \", sum(1 for c in message if c.isupper()))\n",
    "print(\"lower letters: \", sum(1 for c in message if c.islower()))"
   ]
  },
  {
   "cell_type": "markdown",
   "metadata": {},
   "source": [
    "`4. Write a program that accepts a sentence and calculate the number of letters and digits.`\n",
    "\n",
    "<strong>Example</strong>: \"hello world! 123\"\n",
    "<br>\n",
    "<strong>Output</strong>:<br>\n",
    "LETTERS 10<br>\n",
    "DIGITS 3"
   ]
  },
  {
   "cell_type": "code",
   "execution_count": 13,
   "metadata": {},
   "outputs": [],
   "source": [
    "s = 'some string'\n",
    "\n",
    "numbers = sum(c.isdigit() for c in s)\n",
    "letters = sum(c.isalpha() for c in s)\n",
    "spaces  = sum(c.isspace() for c in s)"
   ]
  },
  {
   "cell_type": "markdown",
   "metadata": {},
   "source": [
    "`5. Write a program that creates a pyramid of Xs`\n",
    "\n",
    "<strong>Output</strong>:\n",
    "<br>\n",
    "&nbsp;&nbsp;&nbsp;&nbsp;&nbsp;&nbsp;&nbsp;&nbsp;X<br>\n",
    "&nbsp;&nbsp;&nbsp;&nbsp;&nbsp;&nbsp;XXX<br>\n",
    "&nbsp;&nbsp;&nbsp;&nbsp;XXXXX<br>\n",
    "&nbsp;&nbsp;XXXXXXX<br>\n",
    "XXXXXXXXX<br>"
   ]
  },
  {
   "cell_type": "code",
   "execution_count": null,
   "metadata": {},
   "outputs": [],
   "source": [
    "print(\"Print a Pyramid the Mayan way, using Xes\")\n",
    "size = 7\n",
    "m = (2 * size) - 2\n",
    "for i in range(0, size):\n",
    "    for j in range(1, m):\n",
    "        print(end=\" \")\n",
    "    m = m - 1  \n",
    "    for j in range(0, i + 1):\n",
    "        print(\"x\", end=' ')\n",
    "    print(\" \")\n"
   ]
  }
 ],
 "metadata": {
  "kernelspec": {
   "display_name": "Python 3",
   "language": "python",
   "name": "python3"
  },
  "language_info": {
   "codemirror_mode": {
    "name": "ipython",
    "version": 3
   },
   "file_extension": ".py",
   "mimetype": "text/x-python",
   "name": "python",
   "nbconvert_exporter": "python",
   "pygments_lexer": "ipython3",
   "version": "3.8.5"
  }
 },
 "nbformat": 4,
 "nbformat_minor": 2
}
